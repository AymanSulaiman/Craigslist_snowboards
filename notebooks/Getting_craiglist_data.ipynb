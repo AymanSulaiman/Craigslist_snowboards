{
 "cells": [
  {
   "cell_type": "code",
   "execution_count": 1,
   "id": "1e4ed9dd-84a2-483a-82f6-f80da39ae887",
   "metadata": {},
   "outputs": [],
   "source": [
    "import os\n",
    "import pandas as pd\n",
    "from bs4 import BeautifulSoup\n",
    "import requests as r\n",
    "from pprint import pprint"
   ]
  },
  {
   "cell_type": "code",
   "execution_count": 2,
   "id": "50f57a9f-35f0-45e4-88f6-b0c7ac8df270",
   "metadata": {},
   "outputs": [
    {
     "data": {
      "text/plain": [
       "<Response [200]>"
      ]
     },
     "execution_count": 2,
     "metadata": {},
     "output_type": "execute_result"
    }
   ],
   "source": [
    "url = \"https://losangeles.craigslist.org/d/for-sale/search/sss?query=snowboard&sort=rel\"\n",
    "response = r.get(url)\n",
    "response"
   ]
  },
  {
   "cell_type": "code",
   "execution_count": 3,
   "id": "88b1d742-a149-42df-b11e-1637b6effae7",
   "metadata": {},
   "outputs": [
    {
     "name": "stdout",
     "output_type": "stream",
     "text": [
      "<class 'bs4.element.ResultSet'>\n",
      "120\n"
     ]
    },
    {
     "data": {
      "text/plain": [
       "<li class=\"result-row\" data-pid=\"7404893646\" data-repost-of=\"6367300070\">\n",
       "<a class=\"result-image gallery\" data-ids=\"3:00W0W_E1rogklv7qz_0lG0t2,3:00v0v_ftIvBZMl4fWz_0lG0t2,3:01313_5m76Wowiuybz_0lG0t2\" href=\"https://losangeles.craigslist.org/sfv/spo/d/mission-hills-dakine-snowboard-140-with/7404893646.html\">\n",
       "<span class=\"result-price\">$100</span>\n",
       "</a>\n",
       "<div class=\"result-info\">\n",
       "<span class=\"icon icon-star\" role=\"button\">\n",
       "<span class=\"screen-reader-text\">favorite this post</span>\n",
       "</span>\n",
       "<time class=\"result-date\" datetime=\"2021-11-28 12:35\" title=\"Sun 28 Nov 12:35:00 PM\">Nov 28</time>\n",
       "<h3 class=\"result-heading\">\n",
       "<a class=\"result-title hdrlnk\" data-id=\"7404893646\" href=\"https://losangeles.craigslist.org/sfv/spo/d/mission-hills-dakine-snowboard-140-with/7404893646.html\" id=\"postid_7404893646\">Dakine Snowboard 140 with  bindings</a>\n",
       "</h3>\n",
       "<span class=\"result-meta\">\n",
       "<span class=\"result-price\">$100</span>\n",
       "<span class=\"result-hood\"> (Granada hills san fernando valley )</span>\n",
       "<span class=\"result-tags\">\n",
       "<span class=\"pictag\">pic</span>\n",
       "</span>\n",
       "<span class=\"banish icon icon-trash\" role=\"button\">\n",
       "<span class=\"screen-reader-text\">hide this posting</span>\n",
       "</span>\n",
       "<span aria-hidden=\"true\" class=\"unbanish icon icon-trash red\" role=\"button\"></span>\n",
       "<a class=\"restore-link\" href=\"#\">\n",
       "<span class=\"restore-narrow-text\">restore</span>\n",
       "<span class=\"restore-wide-text\">restore this posting</span>\n",
       "</a>\n",
       "</span>\n",
       "</div>\n",
       "</li>"
      ]
     },
     "execution_count": 3,
     "metadata": {},
     "output_type": "execute_result"
    }
   ],
   "source": [
    "html_soup = BeautifulSoup(response.text, 'html.parser')\n",
    "\n",
    "#get the macro-container for the housing posts\n",
    "posts = html_soup.find_all('li', class_= 'result-row')\n",
    "print(type(posts)) #to double check that I got a ResultSet\n",
    "print(len(posts)) #to double check I got 120 (elements/page)\n",
    "posts[0]"
   ]
  },
  {
   "cell_type": "code",
   "execution_count": 4,
   "id": "246b1b31-6347-45f0-b978-e75cbb759719",
   "metadata": {},
   "outputs": [],
   "source": [
    "next_page = r.get(f\"https://losangeles.craigslist.org{html_soup.find('a',class_='button next')['href']}\")"
   ]
  },
  {
   "cell_type": "code",
   "execution_count": 5,
   "id": "952a6015-61a0-4960-89f1-d6a6c508cd9e",
   "metadata": {},
   "outputs": [],
   "source": [
    "test_soup = BeautifulSoup(next_page.text, 'html.parser')\n",
    "test_soup\n",
    "posts = test_soup.find_all('li', class_= 'result-row')\n",
    "# posts"
   ]
  },
  {
   "cell_type": "markdown",
   "id": "b80ae4ef-fca8-4769-8de4-ad9a98e6a89b",
   "metadata": {},
   "source": [
    "* Step 1\n",
    "    * Get the first page\n",
    "* Step 2\n",
    "    * get the data\n",
    "* Step 3 \n",
    "    * save the data in a dictionary\n",
    "* Step 4\n",
    "    * save the dictionary to a mongodb database\n",
    "* Step 5\n",
    "    * go to the next page\n",
    "* Step 6\n",
    "    * repeat previous steps until the last page is reached"
   ]
  },
  {
   "cell_type": "code",
   "execution_count": 6,
   "id": "09c93de1-7edb-4649-b957-6677f17b21fa",
   "metadata": {},
   "outputs": [
    {
     "name": "stdout",
     "output_type": "stream",
     "text": [
      "Finished scraping\n",
      "+=+=+=+=+=+=+=+=+=+=+=+=+=+=+=+=+=+=+=+=+=+=+=+=+=+=+=+=+=+=+=+=+=+=+=+=+=+=+=+=+=+=+=+=+=+=+=+=+=+=+=+=+=+=+=+=+=+=+=+=+=+=+=+=+=+=+=+=+=+=+=+=+=+=+=+=+=+=+=+=+=+=+=+=+=+=+=+=+=+=+=+=+=+=+=+=+=+=+=+=+=+=+=+=+=+=+=+=+=+=+=+=+=+=+=+=+=+=+=+=+=+=+=+=+=+=+=+=+=+=+=+=+=+=+=+=+=+=+=+=+=+=+=+=+=+=+=+=+=+=+=+=+=+=+=+=+=+=+=+=+=+=+=+=+=+=+=+=+=+=+=+=+=+=+=+=+=+=+=+=+=+=+=+=+=+=+=+=+=+=+=+=+=+=+=+=+=+=+=+=\n",
      "474\n"
     ]
    }
   ],
   "source": [
    "url = \"https://losangeles.craigslist.org/d/for-sale/search/sss?query=snowboard&sort=rel\"\n",
    "list_of_data = []\n",
    "response = r.get(url)\n",
    "html_soup = BeautifulSoup(response.text, 'html.parser')\n",
    "for i in range(20):\n",
    "    posts = html_soup.find_all('li', class_= 'result-row')\n",
    "    # posts_prime = posts[0]\n",
    "    # pprint(posts_prime)\n",
    "    # print(posts_prime.find('a', class_= \"result-title hdrlnk\").title) # title\n",
    "    # print(posts_prime.find('span', class_= \"result-price\").text) # price\n",
    "    # print(posts_prime.find('span', class_= \"result-hood\").text) # location\n",
    "    # print(posts_prime.find('a', class_= \"result-title hdrlnk\",href=True)['href']) # title\n",
    "    # print(\"+\"*100)\n",
    "    for p in posts:\n",
    "#         print(p.find('a', class_= \"result-title hdrlnk\").text) # title\n",
    "#         print(p.find('span', class_= \"result-price\").text) # price\n",
    "#         print(p.find('span', class_= \"result-hood\").text) # location\n",
    "#         print(p.find('a', class_= \"result-title hdrlnk\",href=True)['href']) # Link\n",
    "        \n",
    "        \n",
    "        try:\n",
    "            temp_dict = {\n",
    "                \"post_id\": p.find('a', class_=\"result-title hdrlnk\")['id'],\n",
    "                \"title\": p.find('a', class_= \"result-title hdrlnk\").text,\n",
    "                \"price\": float(str(p.find('span', class_= \"result-price\").text).replace('$','').replace(',','')),\n",
    "                \"location\": str(p.find('span', class_= \"result-hood\").text).replace(' (','').replace(' )',''),\n",
    "                \"link\": p.find('a', class_= \"result-title hdrlnk\",href=True)['href']\n",
    "            }\n",
    "            list_of_data.append(temp_dict)\n",
    "            # print(temp_dict)\n",
    "        except:\n",
    "            pass\n",
    "        # print(\"=\"*100)\n",
    "    try:\n",
    "        response = r.get(f\"https://losangeles.craigslist.org{html_soup.find('a',class_='button next')['href']}\")\n",
    "        html_soup = BeautifulSoup(response.text, 'html.parser')\n",
    "    except:\n",
    "        print(\"Finished scraping\")\n",
    "        break\n",
    "print('+=+='*100)\n",
    "print(len(list_of_data))"
   ]
  },
  {
   "cell_type": "code",
   "execution_count": 8,
   "id": "eff3114f-0575-4f70-9ba0-0802730e8a40",
   "metadata": {},
   "outputs": [
    {
     "data": {
      "text/html": [
       "<div>\n",
       "<style scoped>\n",
       "    .dataframe tbody tr th:only-of-type {\n",
       "        vertical-align: middle;\n",
       "    }\n",
       "\n",
       "    .dataframe tbody tr th {\n",
       "        vertical-align: top;\n",
       "    }\n",
       "\n",
       "    .dataframe thead th {\n",
       "        text-align: right;\n",
       "    }\n",
       "</style>\n",
       "<table border=\"1\" class=\"dataframe\">\n",
       "  <thead>\n",
       "    <tr style=\"text-align: right;\">\n",
       "      <th></th>\n",
       "      <th>post_id</th>\n",
       "      <th>title</th>\n",
       "      <th>price</th>\n",
       "      <th>location</th>\n",
       "      <th>link</th>\n",
       "    </tr>\n",
       "  </thead>\n",
       "  <tbody>\n",
       "    <tr>\n",
       "      <th>0</th>\n",
       "      <td>postid_7404893646</td>\n",
       "      <td>Dakine Snowboard 140 with  bindings</td>\n",
       "      <td>100.0</td>\n",
       "      <td>Granada hills san fernando valley</td>\n",
       "      <td>https://losangeles.craigslist.org/sfv/spo/d/mi...</td>\n",
       "    </tr>\n",
       "    <tr>\n",
       "      <th>1</th>\n",
       "      <td>postid_7402218394</td>\n",
       "      <td>Morrow  Snowboard 148 cm with morrow bindings</td>\n",
       "      <td>125.0</td>\n",
       "      <td>Granada hills san fernando valley</td>\n",
       "      <td>https://losangeles.craigslist.org/sfv/spo/d/mi...</td>\n",
       "    </tr>\n",
       "    <tr>\n",
       "      <th>2</th>\n",
       "      <td>postid_7410755840</td>\n",
       "      <td>Ride Snowboard 115 Cm and small Solomon bindings</td>\n",
       "      <td>125.0</td>\n",
       "      <td>Granada hills san fernando valley</td>\n",
       "      <td>https://losangeles.craigslist.org/sfv/spo/d/mi...</td>\n",
       "    </tr>\n",
       "    <tr>\n",
       "      <th>3</th>\n",
       "      <td>postid_7407043907</td>\n",
       "      <td>WOMENS SNOWBOARD BOOTS</td>\n",
       "      <td>160.0</td>\n",
       "      <td>Arcadia san gabriel valley</td>\n",
       "      <td>https://losangeles.craigslist.org/sgv/spo/d/ar...</td>\n",
       "    </tr>\n",
       "    <tr>\n",
       "      <th>4</th>\n",
       "      <td>postid_7413745357</td>\n",
       "      <td>Women’s Snowboard, Bindings, and Boots</td>\n",
       "      <td>200.0</td>\n",
       "      <td>central LA 213/323</td>\n",
       "      <td>https://losangeles.craigslist.org/lac/spo/d/lo...</td>\n",
       "    </tr>\n",
       "    <tr>\n",
       "      <th>...</th>\n",
       "      <td>...</td>\n",
       "      <td>...</td>\n",
       "      <td>...</td>\n",
       "      <td>...</td>\n",
       "      <td>...</td>\n",
       "    </tr>\n",
       "    <tr>\n",
       "      <th>469</th>\n",
       "      <td>postid_7406161068</td>\n",
       "      <td>Snowboards with bindings</td>\n",
       "      <td>120.0</td>\n",
       "      <td>Encino san fernando valley</td>\n",
       "      <td>https://losangeles.craigslist.org/sfv/spo/d/en...</td>\n",
       "    </tr>\n",
       "    <tr>\n",
       "      <th>470</th>\n",
       "      <td>postid_7411626803</td>\n",
       "      <td>Snowboards</td>\n",
       "      <td>300.0</td>\n",
       "      <td>Frog Town central LA 213/323</td>\n",
       "      <td>https://losangeles.craigslist.org/lac/spo/d/lo...</td>\n",
       "    </tr>\n",
       "    <tr>\n",
       "      <th>471</th>\n",
       "      <td>postid_7408311060</td>\n",
       "      <td>Bird Scooter ES-1 Segway ES-1 Electric Scooter...</td>\n",
       "      <td>399.0</td>\n",
       "      <td>LA County westside-southbay-310</td>\n",
       "      <td>https://losangeles.craigslist.org/wst/sgd/d/lo...</td>\n",
       "    </tr>\n",
       "    <tr>\n",
       "      <th>472</th>\n",
       "      <td>postid_7405832903</td>\n",
       "      <td>Toyota Tacoma Roof Rack</td>\n",
       "      <td>199.0</td>\n",
       "      <td>Los Angeles westside-southbay-310</td>\n",
       "      <td>https://losangeles.craigslist.org/wst/ptd/d/re...</td>\n",
       "    </tr>\n",
       "    <tr>\n",
       "      <th>473</th>\n",
       "      <td>postid_7405826278</td>\n",
       "      <td>Jeep Roof Rack Platform Wrangler Crossbars Wra...</td>\n",
       "      <td>450.0</td>\n",
       "      <td>Los Angeles westside-southbay-310</td>\n",
       "      <td>https://losangeles.craigslist.org/wst/ptd/d/re...</td>\n",
       "    </tr>\n",
       "  </tbody>\n",
       "</table>\n",
       "<p>474 rows × 5 columns</p>\n",
       "</div>"
      ],
      "text/plain": [
       "               post_id                                              title  \\\n",
       "0    postid_7404893646                Dakine Snowboard 140 with  bindings   \n",
       "1    postid_7402218394      Morrow  Snowboard 148 cm with morrow bindings   \n",
       "2    postid_7410755840   Ride Snowboard 115 Cm and small Solomon bindings   \n",
       "3    postid_7407043907                             WOMENS SNOWBOARD BOOTS   \n",
       "4    postid_7413745357             Women’s Snowboard, Bindings, and Boots   \n",
       "..                 ...                                                ...   \n",
       "469  postid_7406161068                           Snowboards with bindings   \n",
       "470  postid_7411626803                                         Snowboards   \n",
       "471  postid_7408311060  Bird Scooter ES-1 Segway ES-1 Electric Scooter...   \n",
       "472  postid_7405832903                            Toyota Tacoma Roof Rack   \n",
       "473  postid_7405826278  Jeep Roof Rack Platform Wrangler Crossbars Wra...   \n",
       "\n",
       "     price                           location  \\\n",
       "0    100.0  Granada hills san fernando valley   \n",
       "1    125.0  Granada hills san fernando valley   \n",
       "2    125.0  Granada hills san fernando valley   \n",
       "3    160.0         Arcadia san gabriel valley   \n",
       "4    200.0                 central LA 213/323   \n",
       "..     ...                                ...   \n",
       "469  120.0         Encino san fernando valley   \n",
       "470  300.0       Frog Town central LA 213/323   \n",
       "471  399.0    LA County westside-southbay-310   \n",
       "472  199.0  Los Angeles westside-southbay-310   \n",
       "473  450.0  Los Angeles westside-southbay-310   \n",
       "\n",
       "                                                  link  \n",
       "0    https://losangeles.craigslist.org/sfv/spo/d/mi...  \n",
       "1    https://losangeles.craigslist.org/sfv/spo/d/mi...  \n",
       "2    https://losangeles.craigslist.org/sfv/spo/d/mi...  \n",
       "3    https://losangeles.craigslist.org/sgv/spo/d/ar...  \n",
       "4    https://losangeles.craigslist.org/lac/spo/d/lo...  \n",
       "..                                                 ...  \n",
       "469  https://losangeles.craigslist.org/sfv/spo/d/en...  \n",
       "470  https://losangeles.craigslist.org/lac/spo/d/lo...  \n",
       "471  https://losangeles.craigslist.org/wst/sgd/d/lo...  \n",
       "472  https://losangeles.craigslist.org/wst/ptd/d/re...  \n",
       "473  https://losangeles.craigslist.org/wst/ptd/d/re...  \n",
       "\n",
       "[474 rows x 5 columns]"
      ]
     },
     "execution_count": 8,
     "metadata": {},
     "output_type": "execute_result"
    }
   ],
   "source": [
    "df = pd.DataFrame(list_of_data)\n",
    "df"
   ]
  },
  {
   "cell_type": "code",
   "execution_count": null,
   "id": "8d86d43a-d0f4-45bf-8cdc-096ebd43e2a4",
   "metadata": {},
   "outputs": [],
   "source": []
  },
  {
   "cell_type": "code",
   "execution_count": null,
   "id": "a75da0f8-5ebc-4fc1-a8f5-3c72f4a58135",
   "metadata": {},
   "outputs": [],
   "source": []
  },
  {
   "cell_type": "code",
   "execution_count": null,
   "id": "82478cfd-0bbe-46af-957e-0d2463a3adfb",
   "metadata": {},
   "outputs": [],
   "source": []
  }
 ],
 "metadata": {
  "kernelspec": {
   "display_name": "Python 3 (ipykernel)",
   "language": "python",
   "name": "python3"
  },
  "language_info": {
   "codemirror_mode": {
    "name": "ipython",
    "version": 3
   },
   "file_extension": ".py",
   "mimetype": "text/x-python",
   "name": "python",
   "nbconvert_exporter": "python",
   "pygments_lexer": "ipython3",
   "version": "3.9.7"
  }
 },
 "nbformat": 4,
 "nbformat_minor": 5
}
