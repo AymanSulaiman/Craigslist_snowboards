{
 "cells": [
  {
   "cell_type": "code",
   "execution_count": 1,
   "id": "e1b2cee6-22bc-4cdc-9f55-5bf184a16d9c",
   "metadata": {},
   "outputs": [],
   "source": [
    "import os\n",
    "import pandas as pd"
   ]
  },
  {
   "cell_type": "code",
   "execution_count": 2,
   "id": "3aa1e5ad-e354-4502-b463-f902c795bc34",
   "metadata": {},
   "outputs": [
    {
     "data": {
      "text/html": [
       "<div>\n",
       "<style scoped>\n",
       "    .dataframe tbody tr th:only-of-type {\n",
       "        vertical-align: middle;\n",
       "    }\n",
       "\n",
       "    .dataframe tbody tr th {\n",
       "        vertical-align: top;\n",
       "    }\n",
       "\n",
       "    .dataframe thead th {\n",
       "        text-align: right;\n",
       "    }\n",
       "</style>\n",
       "<table border=\"1\" class=\"dataframe\">\n",
       "  <thead>\n",
       "    <tr style=\"text-align: right;\">\n",
       "      <th></th>\n",
       "      <th>post_id</th>\n",
       "      <th>title</th>\n",
       "      <th>price</th>\n",
       "      <th>location</th>\n",
       "      <th>link</th>\n",
       "      <th>full_text</th>\n",
       "    </tr>\n",
       "  </thead>\n",
       "  <tbody>\n",
       "    <tr>\n",
       "      <th>0</th>\n",
       "      <td>postid_7404893646</td>\n",
       "      <td>Dakine Snowboard 140 with  bindings</td>\n",
       "      <td>100.0</td>\n",
       "      <td>Granada hills san fernando valley</td>\n",
       "      <td>https://losangeles.craigslist.org/sfv/spo/d/mi...</td>\n",
       "      <td>Dakine Snowboard 140 with  bindings Granada hi...</td>\n",
       "    </tr>\n",
       "    <tr>\n",
       "      <th>1</th>\n",
       "      <td>postid_7402218394</td>\n",
       "      <td>Morrow  Snowboard 148 cm with morrow bindings</td>\n",
       "      <td>125.0</td>\n",
       "      <td>Granada hills san fernando valley</td>\n",
       "      <td>https://losangeles.craigslist.org/sfv/spo/d/mi...</td>\n",
       "      <td>Morrow  Snowboard 148 cm with morrow bindings ...</td>\n",
       "    </tr>\n",
       "    <tr>\n",
       "      <th>2</th>\n",
       "      <td>postid_7410755840</td>\n",
       "      <td>Ride Snowboard 115 Cm and small Solomon bindings</td>\n",
       "      <td>125.0</td>\n",
       "      <td>Granada hills san fernando valley</td>\n",
       "      <td>https://losangeles.craigslist.org/sfv/spo/d/mi...</td>\n",
       "      <td>Ride Snowboard 115 Cm and small Solomon bindin...</td>\n",
       "    </tr>\n",
       "    <tr>\n",
       "      <th>3</th>\n",
       "      <td>postid_7407043907</td>\n",
       "      <td>WOMENS SNOWBOARD BOOTS</td>\n",
       "      <td>160.0</td>\n",
       "      <td>Arcadia san gabriel valley</td>\n",
       "      <td>https://losangeles.craigslist.org/sgv/spo/d/ar...</td>\n",
       "      <td>WOMENS SNOWBOARD BOOTS Arcadia san gabriel valley</td>\n",
       "    </tr>\n",
       "    <tr>\n",
       "      <th>4</th>\n",
       "      <td>postid_7413745357</td>\n",
       "      <td>Women’s Snowboard, Bindings, and Boots</td>\n",
       "      <td>200.0</td>\n",
       "      <td>central LA 213/323</td>\n",
       "      <td>https://losangeles.craigslist.org/lac/spo/d/lo...</td>\n",
       "      <td>Women’s Snowboard, Bindings, and Boots  centra...</td>\n",
       "    </tr>\n",
       "    <tr>\n",
       "      <th>...</th>\n",
       "      <td>...</td>\n",
       "      <td>...</td>\n",
       "      <td>...</td>\n",
       "      <td>...</td>\n",
       "      <td>...</td>\n",
       "      <td>...</td>\n",
       "    </tr>\n",
       "    <tr>\n",
       "      <th>469</th>\n",
       "      <td>postid_7406161068</td>\n",
       "      <td>Snowboards with bindings</td>\n",
       "      <td>120.0</td>\n",
       "      <td>Encino san fernando valley</td>\n",
       "      <td>https://losangeles.craigslist.org/sfv/spo/d/en...</td>\n",
       "      <td>Snowboards with bindings Encino san fernando v...</td>\n",
       "    </tr>\n",
       "    <tr>\n",
       "      <th>470</th>\n",
       "      <td>postid_7411626803</td>\n",
       "      <td>Snowboards</td>\n",
       "      <td>300.0</td>\n",
       "      <td>Frog Town central LA 213/323</td>\n",
       "      <td>https://losangeles.craigslist.org/lac/spo/d/lo...</td>\n",
       "      <td>Snowboards Frog Town central LA 213/323</td>\n",
       "    </tr>\n",
       "    <tr>\n",
       "      <th>471</th>\n",
       "      <td>postid_7408311060</td>\n",
       "      <td>Bird Scooter ES-1 Segway ES-1 Electric Scooter...</td>\n",
       "      <td>399.0</td>\n",
       "      <td>LA County westside-southbay-310</td>\n",
       "      <td>https://losangeles.craigslist.org/wst/sgd/d/lo...</td>\n",
       "      <td>Bird Scooter ES-1 Segway ES-1 Electric Scooter...</td>\n",
       "    </tr>\n",
       "    <tr>\n",
       "      <th>472</th>\n",
       "      <td>postid_7405832903</td>\n",
       "      <td>Toyota Tacoma Roof Rack</td>\n",
       "      <td>199.0</td>\n",
       "      <td>Los Angeles westside-southbay-310</td>\n",
       "      <td>https://losangeles.craigslist.org/wst/ptd/d/re...</td>\n",
       "      <td>Toyota Tacoma Roof Rack Los Angeles westside-s...</td>\n",
       "    </tr>\n",
       "    <tr>\n",
       "      <th>473</th>\n",
       "      <td>postid_7405826278</td>\n",
       "      <td>Jeep Roof Rack Platform Wrangler Crossbars Wra...</td>\n",
       "      <td>450.0</td>\n",
       "      <td>Los Angeles westside-southbay-310</td>\n",
       "      <td>https://losangeles.craigslist.org/wst/ptd/d/re...</td>\n",
       "      <td>Jeep Roof Rack Platform Wrangler Crossbars Wra...</td>\n",
       "    </tr>\n",
       "  </tbody>\n",
       "</table>\n",
       "<p>474 rows × 6 columns</p>\n",
       "</div>"
      ],
      "text/plain": [
       "               post_id                                              title  \\\n",
       "0    postid_7404893646                Dakine Snowboard 140 with  bindings   \n",
       "1    postid_7402218394      Morrow  Snowboard 148 cm with morrow bindings   \n",
       "2    postid_7410755840   Ride Snowboard 115 Cm and small Solomon bindings   \n",
       "3    postid_7407043907                             WOMENS SNOWBOARD BOOTS   \n",
       "4    postid_7413745357             Women’s Snowboard, Bindings, and Boots   \n",
       "..                 ...                                                ...   \n",
       "469  postid_7406161068                           Snowboards with bindings   \n",
       "470  postid_7411626803                                         Snowboards   \n",
       "471  postid_7408311060  Bird Scooter ES-1 Segway ES-1 Electric Scooter...   \n",
       "472  postid_7405832903                            Toyota Tacoma Roof Rack   \n",
       "473  postid_7405826278  Jeep Roof Rack Platform Wrangler Crossbars Wra...   \n",
       "\n",
       "     price                           location  \\\n",
       "0    100.0  Granada hills san fernando valley   \n",
       "1    125.0  Granada hills san fernando valley   \n",
       "2    125.0  Granada hills san fernando valley   \n",
       "3    160.0         Arcadia san gabriel valley   \n",
       "4    200.0                 central LA 213/323   \n",
       "..     ...                                ...   \n",
       "469  120.0         Encino san fernando valley   \n",
       "470  300.0       Frog Town central LA 213/323   \n",
       "471  399.0    LA County westside-southbay-310   \n",
       "472  199.0  Los Angeles westside-southbay-310   \n",
       "473  450.0  Los Angeles westside-southbay-310   \n",
       "\n",
       "                                                  link  \\\n",
       "0    https://losangeles.craigslist.org/sfv/spo/d/mi...   \n",
       "1    https://losangeles.craigslist.org/sfv/spo/d/mi...   \n",
       "2    https://losangeles.craigslist.org/sfv/spo/d/mi...   \n",
       "3    https://losangeles.craigslist.org/sgv/spo/d/ar...   \n",
       "4    https://losangeles.craigslist.org/lac/spo/d/lo...   \n",
       "..                                                 ...   \n",
       "469  https://losangeles.craigslist.org/sfv/spo/d/en...   \n",
       "470  https://losangeles.craigslist.org/lac/spo/d/lo...   \n",
       "471  https://losangeles.craigslist.org/wst/sgd/d/lo...   \n",
       "472  https://losangeles.craigslist.org/wst/ptd/d/re...   \n",
       "473  https://losangeles.craigslist.org/wst/ptd/d/re...   \n",
       "\n",
       "                                             full_text  \n",
       "0    Dakine Snowboard 140 with  bindings Granada hi...  \n",
       "1    Morrow  Snowboard 148 cm with morrow bindings ...  \n",
       "2    Ride Snowboard 115 Cm and small Solomon bindin...  \n",
       "3    WOMENS SNOWBOARD BOOTS Arcadia san gabriel valley  \n",
       "4    Women’s Snowboard, Bindings, and Boots  centra...  \n",
       "..                                                 ...  \n",
       "469  Snowboards with bindings Encino san fernando v...  \n",
       "470            Snowboards Frog Town central LA 213/323  \n",
       "471  Bird Scooter ES-1 Segway ES-1 Electric Scooter...  \n",
       "472  Toyota Tacoma Roof Rack Los Angeles westside-s...  \n",
       "473  Jeep Roof Rack Platform Wrangler Crossbars Wra...  \n",
       "\n",
       "[474 rows x 6 columns]"
      ]
     },
     "execution_count": 2,
     "metadata": {},
     "output_type": "execute_result"
    }
   ],
   "source": [
    "df = pd.read_csv(os.path.join('..','data','snowboard_data.csv'))\n",
    "df"
   ]
  },
  {
   "cell_type": "code",
   "execution_count": 7,
   "id": "f8f606d5-c5ae-4fa5-907c-173212468e78",
   "metadata": {},
   "outputs": [
    {
     "name": "stderr",
     "output_type": "stream",
     "text": [
      "/home/ayman/anaconda3/lib/python3.9/site-packages/pandas/core/generic.py:5516: SettingWithCopyWarning: \n",
      "A value is trying to be set on a copy of a slice from a DataFrame.\n",
      "Try using .loc[row_indexer,col_indexer] = value instead\n",
      "\n",
      "See the caveats in the documentation: https://pandas.pydata.org/pandas-docs/stable/user_guide/indexing.html#returning-a-view-versus-a-copy\n",
      "  self[name] = value\n"
     ]
    },
    {
     "data": {
      "text/html": [
       "<div>\n",
       "<style scoped>\n",
       "    .dataframe tbody tr th:only-of-type {\n",
       "        vertical-align: middle;\n",
       "    }\n",
       "\n",
       "    .dataframe tbody tr th {\n",
       "        vertical-align: top;\n",
       "    }\n",
       "\n",
       "    .dataframe thead th {\n",
       "        text-align: right;\n",
       "    }\n",
       "</style>\n",
       "<table border=\"1\" class=\"dataframe\">\n",
       "  <thead>\n",
       "    <tr style=\"text-align: right;\">\n",
       "      <th></th>\n",
       "      <th>full_text</th>\n",
       "      <th>price</th>\n",
       "    </tr>\n",
       "  </thead>\n",
       "  <tbody>\n",
       "    <tr>\n",
       "      <th>0</th>\n",
       "      <td>dakine snowboard 140 with  bindings granada hi...</td>\n",
       "      <td>100.0</td>\n",
       "    </tr>\n",
       "    <tr>\n",
       "      <th>1</th>\n",
       "      <td>morrow  snowboard 148 cm with morrow bindings ...</td>\n",
       "      <td>125.0</td>\n",
       "    </tr>\n",
       "    <tr>\n",
       "      <th>2</th>\n",
       "      <td>ride snowboard 115 cm and small solomon bindin...</td>\n",
       "      <td>125.0</td>\n",
       "    </tr>\n",
       "    <tr>\n",
       "      <th>3</th>\n",
       "      <td>womens snowboard boots arcadia san gabriel valley</td>\n",
       "      <td>160.0</td>\n",
       "    </tr>\n",
       "    <tr>\n",
       "      <th>4</th>\n",
       "      <td>women’s snowboard, bindings, and boots  centra...</td>\n",
       "      <td>200.0</td>\n",
       "    </tr>\n",
       "    <tr>\n",
       "      <th>...</th>\n",
       "      <td>...</td>\n",
       "      <td>...</td>\n",
       "    </tr>\n",
       "    <tr>\n",
       "      <th>469</th>\n",
       "      <td>snowboards with bindings encino san fernando v...</td>\n",
       "      <td>120.0</td>\n",
       "    </tr>\n",
       "    <tr>\n",
       "      <th>470</th>\n",
       "      <td>snowboards frog town central la 213/323</td>\n",
       "      <td>300.0</td>\n",
       "    </tr>\n",
       "    <tr>\n",
       "      <th>471</th>\n",
       "      <td>bird scooter es-1 segway es-1 electric scooter...</td>\n",
       "      <td>399.0</td>\n",
       "    </tr>\n",
       "    <tr>\n",
       "      <th>472</th>\n",
       "      <td>toyota tacoma roof rack los angeles westside-s...</td>\n",
       "      <td>199.0</td>\n",
       "    </tr>\n",
       "    <tr>\n",
       "      <th>473</th>\n",
       "      <td>jeep roof rack platform wrangler crossbars wra...</td>\n",
       "      <td>450.0</td>\n",
       "    </tr>\n",
       "  </tbody>\n",
       "</table>\n",
       "<p>474 rows × 2 columns</p>\n",
       "</div>"
      ],
      "text/plain": [
       "                                             full_text  price\n",
       "0    dakine snowboard 140 with  bindings granada hi...  100.0\n",
       "1    morrow  snowboard 148 cm with morrow bindings ...  125.0\n",
       "2    ride snowboard 115 cm and small solomon bindin...  125.0\n",
       "3    womens snowboard boots arcadia san gabriel valley  160.0\n",
       "4    women’s snowboard, bindings, and boots  centra...  200.0\n",
       "..                                                 ...    ...\n",
       "469  snowboards with bindings encino san fernando v...  120.0\n",
       "470            snowboards frog town central la 213/323  300.0\n",
       "471  bird scooter es-1 segway es-1 electric scooter...  399.0\n",
       "472  toyota tacoma roof rack los angeles westside-s...  199.0\n",
       "473  jeep roof rack platform wrangler crossbars wra...  450.0\n",
       "\n",
       "[474 rows x 2 columns]"
      ]
     },
     "execution_count": 7,
     "metadata": {},
     "output_type": "execute_result"
    }
   ],
   "source": [
    "df_1 = df[['full_text','price']]\n",
    "df_1.full_text = df_1.full_text.str.lower()\n",
    "df_1"
   ]
  },
  {
   "cell_type": "code",
   "execution_count": 19,
   "id": "d6e5d2ac-6450-40b4-bc08-38dc84f8a103",
   "metadata": {},
   "outputs": [],
   "source": [
    "from sklearn.model_selection import train_test_split\n",
    "from sklearn.feature_extraction.text import TfidfVectorizer\n",
    "\n",
    "corpus = df_1.full_text\n",
    "y = df_1.price.values.reshape(-1,1)\n",
    "\n",
    "\n",
    "vectorizer = TfidfVectorizer()\n",
    "X = vectorizer.fit_transform(corpus)\n",
    "X_train, X_test, y_train, y_test = train_test_split(X, y, test_size=0.33, random_state=42)"
   ]
  },
  {
   "cell_type": "code",
   "execution_count": 20,
   "id": "7afbcc94-2e18-4f80-bb61-5cf374d01dbe",
   "metadata": {},
   "outputs": [
    {
     "data": {
      "text/plain": [
       "<474x960 sparse matrix of type '<class 'numpy.float64'>'\n",
       "\twith 5212 stored elements in Compressed Sparse Row format>"
      ]
     },
     "execution_count": 20,
     "metadata": {},
     "output_type": "execute_result"
    }
   ],
   "source": [
    "X"
   ]
  },
  {
   "cell_type": "code",
   "execution_count": 21,
   "id": "a7372dbd-a351-4e94-a5cf-b59f9d758f90",
   "metadata": {},
   "outputs": [
    {
     "data": {
      "text/plain": [
       "LinearRegression()"
      ]
     },
     "execution_count": 21,
     "metadata": {},
     "output_type": "execute_result"
    }
   ],
   "source": [
    "from sklearn.linear_model import LinearRegression\n",
    "model = LinearRegression()\n",
    "model.fit(X_train, y_train)"
   ]
  },
  {
   "cell_type": "code",
   "execution_count": 28,
   "id": "279e1b3d-1b05-43a8-8021-e1e61017b170",
   "metadata": {},
   "outputs": [],
   "source": [
    "y_pred = model.predict(X_test)"
   ]
  },
  {
   "cell_type": "code",
   "execution_count": 29,
   "id": "113a32b9-74a7-4fd2-98ed-e6a2b09dbb90",
   "metadata": {},
   "outputs": [],
   "source": [
    "from matplotlib import pyplot as plt"
   ]
  },
  {
   "cell_type": "code",
   "execution_count": 30,
   "id": "60e0da07-77a2-4572-abd4-f6e18d87c788",
   "metadata": {},
   "outputs": [
    {
     "data": {
      "image/png": "[encoded data removed]",
      "text/plain": [
       "<Figure size 432x288 with 1 Axes>"
      ]
     },
     "metadata": {
      "needs_background": "light"
     },
     "output_type": "display_data"
    }
   ],
   "source": [
    "plt.scatter(y_test, y_pred)\n",
    "plt.show()"
   ]
  },
  {
   "cell_type": "code",
   "execution_count": 33,
   "id": "67f52ef9-8e19-4209-a152-f4cf207b2e7e",
   "metadata": {},
   "outputs": [
    {
     "data": {
      "text/plain": [
       "727701.5998912492"
      ]
     },
     "execution_count": 33,
     "metadata": {},
     "output_type": "execute_result"
    }
   ],
   "source": [
    "from sklearn.metrics import r2_score, mean_squared_error\n",
    "\n",
    "r2_score(y_test, y_pred)\n",
    "mean_squared_error(y_test, y_pred)"
   ]
  },
  {
   "cell_type": "code",
   "execution_count": null,
   "id": "9f1fad68-c66d-4346-bb96-6ba6bc30a8f3",
   "metadata": {},
   "outputs": [],
   "source": []
  },
  {
   "cell_type": "code",
   "execution_count": null,
   "id": "10242500-823e-4670-a31e-203f997f768d",
   "metadata": {},
   "outputs": [],
   "source": []
  }
 ],
 "metadata": {
  "kernelspec": {
   "display_name": "Python 3 (ipykernel)",
   "language": "python",
   "name": "python3"
  },
  "language_info": {
   "codemirror_mode": {
    "name": "ipython",
    "version": 3
   },
   "file_extension": ".py",
   "mimetype": "text/x-python",
   "name": "python",
   "nbconvert_exporter": "python",
   "pygments_lexer": "ipython3",
   "version": "3.9.7"
  }
 },
 "nbformat": 4,
 "nbformat_minor": 5
}
